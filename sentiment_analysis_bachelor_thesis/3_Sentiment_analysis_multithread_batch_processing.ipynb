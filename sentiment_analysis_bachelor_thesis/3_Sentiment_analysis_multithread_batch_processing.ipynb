{
 "cells": [
  {
   "cell_type": "markdown",
   "id": "8dbc0947",
   "metadata": {},
   "source": [
    "Files needed for this code to work:\n",
    "1. [2_EmoWoz_Dataset.xlsx](2_EmoWoz_Dataset.xlsx) which was created in [1_EmoWoz_Setup.ipynb](1_EmoWoz_Setup.ipynb)\n",
    "\n",
    "Note the sentiment analysis is processed in parallel. If this causes problems, use [3_Sentiment_analysis.ipynb](3_Sentiment_analysis.ipynb) for sequential processing"
   ]
  },
  {
   "cell_type": "markdown",
   "id": "7e41ff08-b5a1-4278-bf19-cc0953136345",
   "metadata": {},
   "source": [
    "# Step 1: Import required packages"
   ]
  },
  {
   "cell_type": "code",
   "execution_count": 2,
   "id": "83c7a640-81f6-4408-90e9-f7fb7d074068",
   "metadata": {},
   "outputs": [
    {
     "name": "stderr",
     "output_type": "stream",
     "text": [
      "[nltk_data] Downloading package stopwords to\n",
      "[nltk_data]     C:\\Users\\vicedeputy\\AppData\\Roaming\\nltk_data...\n",
      "[nltk_data]   Package stopwords is already up-to-date!\n"
     ]
    },
    {
     "data": {
      "text/html": [
       "<style>pre { white-space: pre-wrap !important; }</style>"
      ],
      "text/plain": [
       "<IPython.core.display.HTML object>"
      ]
     },
     "metadata": {},
     "output_type": "display_data"
    }
   ],
   "source": [
    "import torch\n",
    "import pandas as pd\n",
    "import numpy as np\n",
    "from transformers import pipeline\n",
    "from tqdm.notebook import tqdm\n",
    "import nltk\n",
    "from nltk.corpus import stopwords\n",
    "nltk.download('stopwords')\n",
    "import re\n",
    "import os\n",
    "from sklearn.metrics import confusion_matrix\n",
    "import seaborn as sns\n",
    "import matplotlib.pyplot as plt\n",
    "from IPython.display import display, HTML\n",
    "display(HTML(\"<style>pre { white-space: pre-wrap !important; }</style>\"))\n",
    "from concurrent.futures import ThreadPoolExecutor"
   ]
  },
  {
   "cell_type": "markdown",
   "id": "c1c9866e-9530-4dd2-b62c-0c6cee0a6d4d",
   "metadata": {},
   "source": [
    "# Step 2: Load in EmoWoz texts and correct sentiment labels into a list and clean that list"
   ]
  },
  {
   "cell_type": "code",
   "execution_count": 3,
   "id": "09e79d79",
   "metadata": {},
   "outputs": [
    {
     "data": {
      "text/plain": [
       "[['Thanks so much. I am also looking for places to go in town. Can you help me with that?',\n",
       "  2,\n",
       "  6,\n",
       "  'Positive',\n",
       "  'Satisfied, liking'],\n",
       " ['Thank you.  That was all I needed.', 2, 6, 'Positive', 'Satisfied, liking'],\n",
       " ['No. I need to depart from Cambridge and leave on Monday. Can you find me a more suitable train?',\n",
       "  1,\n",
       "  2,\n",
       "  'Negative',\n",
       "  'Dissatisfied, disliking'],\n",
       " [\"That's all I need. Thank you!\", 2, 6, 'Positive', 'Satisfied, liking'],\n",
       " ['Thank you and goodbye.', 2, 6, 'Positive', 'Satisfied, liking'],\n",
       " [\"Good day. I'm headed into town and I need help finding a guesthouse that offers free wifi please\",\n",
       "  2,\n",
       "  5,\n",
       "  'Positive',\n",
       "  'Excited, happy, anticipating'],\n",
       " [\"Okay, i'll try it out!  Book me for 6 people, 2 nights starting this monday.\",\n",
       "  2,\n",
       "  6,\n",
       "  'Positive',\n",
       "  'Satisfied, liking'],\n",
       " ['Thank you.  Yes, I also need to find a moderately priced Italian restaurant.',\n",
       "  2,\n",
       "  6,\n",
       "  'Positive',\n",
       "  'Satisfied, liking'],\n",
       " [\"Yes, let's go for the one in Regent Street City Centre. It will be on Monday, at 19:15, and there will be 6 people. \",\n",
       "  2,\n",
       "  6,\n",
       "  'Positive',\n",
       "  'Satisfied, liking'],\n",
       " ['thank you that will be all', 2, 6, 'Positive', 'Satisfied, liking']]"
      ]
     },
     "execution_count": 3,
     "metadata": {},
     "output_type": "execute_result"
    }
   ],
   "source": [
    "# Load the Excel file\n",
    "emowoz_df = pd.read_excel(\"2_EmoWoz_Dataset.xlsx\")\n",
    "\n",
    "# Convert the DataFrame to a list\n",
    "emowoz_list = emowoz_df.values.tolist()\n",
    "emowoz_list[:10]"
   ]
  },
  {
   "cell_type": "code",
   "execution_count": 4,
   "id": "abf02423",
   "metadata": {},
   "outputs": [
    {
     "data": {
      "text/plain": [
       "20219"
      ]
     },
     "execution_count": 4,
     "metadata": {},
     "output_type": "execute_result"
    }
   ],
   "source": [
    "# Double checking all 20219 rows of dialogue are loaded\n",
    "len(emowoz_list)"
   ]
  },
  {
   "cell_type": "code",
   "execution_count": 5,
   "id": "e40fc835",
   "metadata": {},
   "outputs": [],
   "source": [
    "# Iterate over all elements in emowoz_list to extract \n",
    "# i) the actual texts from each speaker turn into a list (the first element of each nested list) \n",
    "# ii) the correct sentiments in a separate list (the fourth element of each nested list)\n",
    "emowoz_text = []\n",
    "emowoz_correct_sentiment = []\n",
    "for speaker_turn in emowoz_list:\n",
    "    emowoz_text.append(speaker_turn[0])\n",
    "    emowoz_correct_sentiment.append(speaker_turn[3])"
   ]
  },
  {
   "cell_type": "code",
   "execution_count": 6,
   "id": "e12b91e1",
   "metadata": {},
   "outputs": [
    {
     "data": {
      "text/plain": [
       "['Thanks so much. I am also looking for places to go in town. Can you help me with that?',\n",
       " 'Thank you.  That was all I needed.',\n",
       " 'No. I need to depart from Cambridge and leave on Monday. Can you find me a more suitable train?',\n",
       " \"That's all I need. Thank you!\",\n",
       " 'Thank you and goodbye.',\n",
       " \"Good day. I'm headed into town and I need help finding a guesthouse that offers free wifi please\",\n",
       " \"Okay, i'll try it out!  Book me for 6 people, 2 nights starting this monday.\",\n",
       " 'Thank you.  Yes, I also need to find a moderately priced Italian restaurant.',\n",
       " \"Yes, let's go for the one in Regent Street City Centre. It will be on Monday, at 19:15, and there will be 6 people. \",\n",
       " 'thank you that will be all']"
      ]
     },
     "execution_count": 6,
     "metadata": {},
     "output_type": "execute_result"
    }
   ],
   "source": [
    "# Paste to see list of Emowoz speaker turns\n",
    "emowoz_text[:10]"
   ]
  },
  {
   "cell_type": "code",
   "execution_count": 7,
   "id": "154cb67d",
   "metadata": {},
   "outputs": [
    {
     "data": {
      "text/plain": [
       "['Positive',\n",
       " 'Positive',\n",
       " 'Negative',\n",
       " 'Positive',\n",
       " 'Positive',\n",
       " 'Positive',\n",
       " 'Positive',\n",
       " 'Positive',\n",
       " 'Positive',\n",
       " 'Positive']"
      ]
     },
     "execution_count": 7,
     "metadata": {},
     "output_type": "execute_result"
    }
   ],
   "source": [
    "# Paste to see list of correct sentiments for each speaker turn\n",
    "emowoz_correct_sentiment[:10]"
   ]
  },
  {
   "cell_type": "markdown",
   "id": "d40b8245-0f42-4c8c-b8f9-84e559908d1b",
   "metadata": {},
   "source": [
    "# Step 3: Text pre-processing"
   ]
  },
  {
   "cell_type": "code",
   "execution_count": 8,
   "id": "0cb38d7d-80b2-4306-b43b-174cce3a78d7",
   "metadata": {
    "tags": []
   },
   "outputs": [],
   "source": [
    "# Want to make processing faster by i) cleaning text and ii) removing stopwords."
   ]
  },
  {
   "cell_type": "markdown",
   "id": "b60e3a40",
   "metadata": {},
   "source": [
    "## Step 3.1 Cleaning EmoWoz text"
   ]
  },
  {
   "cell_type": "code",
   "execution_count": 9,
   "id": "818d37ca",
   "metadata": {
    "scrolled": true
   },
   "outputs": [
    {
     "data": {
      "text/plain": [
       "['thanks so much am also looking for places to go in town can you help me with that',\n",
       " 'thank you that was all needed',\n",
       " 'no need to depart from cambridge and leave on monday can you find me more suitable train',\n",
       " 'that is all need thank you',\n",
       " 'thank you and goodbye',\n",
       " 'good day am headed into town and need help finding guesthouse that offers free wifi please',\n",
       " 'okay will try it out book me for people nights starting this monday',\n",
       " 'thank you yes also need to find moderately priced italian restaurant',\n",
       " 'yes let us go for the in regent street city centre it will be on monday at and there will be people ',\n",
       " 'thank you that will be all']"
      ]
     },
     "execution_count": 9,
     "metadata": {},
     "output_type": "execute_result"
    }
   ],
   "source": [
    "# Use re module \n",
    "# Copy emowoz_text list into new list to preserve the actual texts from the EmoWoz library for later\n",
    "emowoz_text_clean = emowoz_text.copy()\n",
    "# Then clean text by removing non-sentiment relevant words\n",
    "for i in range(len(emowoz_text_clean)):\n",
    "    # lowercase font\n",
    "    emowoz_text_clean[i] =  emowoz_text_clean[i].lower()\n",
    "    # remove numbers\n",
    "    emowoz_text_clean[i]=re.sub('[0-9]{1,}(,[0-9]{3}){0,}(\\.[0-9]{1,}){0,1}','',emowoz_text_clean[i])\n",
    "    emowoz_text_clean[i]=re.sub(r'\\bzero\\b','',emowoz_text_clean[i])\n",
    "    emowoz_text_clean[i]=re.sub(r'\\bone\\b','',emowoz_text_clean[i])\n",
    "    emowoz_text_clean[i]=re.sub(r'\\btwo\\b','',emowoz_text_clean[i])\n",
    "    emowoz_text_clean[i]=re.sub(r'\\bthree\\b','',emowoz_text_clean[i])\n",
    "    emowoz_text_clean[i]=re.sub(r'\\bfour\\b','',emowoz_text_clean[i])\n",
    "    emowoz_text_clean[i]=re.sub(r'\\bfive\\b','',emowoz_text_clean[i])\n",
    "    emowoz_text_clean[i]=re.sub(r'\\bsix\\b','',emowoz_text_clean[i])\n",
    "    emowoz_text_clean[i]=re.sub(r'\\bseven\\b','',emowoz_text_clean[i])\n",
    "    emowoz_text_clean[i]=re.sub(r'\\beight\\b','',emowoz_text_clean[i])\n",
    "    emowoz_text_clean[i]=re.sub(r'\\bnine\\b','',emowoz_text_clean[i])\n",
    "    emowoz_text_clean[i]=re.sub(r'\\bten\\b','',emowoz_text_clean[i])\n",
    "    emowoz_text_clean[i]=re.sub(r'\\beleven\\b','',emowoz_text_clean[i])\n",
    "    emowoz_text_clean[i]=re.sub(r'\\btwelve\\b','',emowoz_text_clean[i])\n",
    "    emowoz_text_clean[i]=re.sub(r'\\bthirteen\\b','',emowoz_text_clean[i])\n",
    "    emowoz_text_clean[i]=re.sub(r'\\bfourteen\\b','',emowoz_text_clean[i])\n",
    "    emowoz_text_clean[i]=re.sub(r'\\bfifteen\\b','',emowoz_text_clean[i])\n",
    "    emowoz_text_clean[i]=re.sub(r'\\bsixteen\\b','',emowoz_text_clean[i])\n",
    "    emowoz_text_clean[i]=re.sub(r'\\bseventeen\\b','',emowoz_text_clean[i])\n",
    "    emowoz_text_clean[i]=re.sub(r'\\beighteen\\b','',emowoz_text_clean[i])\n",
    "    emowoz_text_clean[i]=re.sub(r'\\bnineteen\\b','',emowoz_text_clean[i])\n",
    "    emowoz_text_clean[i]=re.sub(r'\\btwenty\\b','',emowoz_text_clean[i])\n",
    "    # removing contractions\n",
    "    contractions={\n",
    "        re.compile(\"amn't\"): \"am not\",\n",
    "        re.compile(\"aren't\"): \"are not\",\n",
    "        re.compile(\"can't\"): \"cannot\",\n",
    "        re.compile(\"'cause\"): \"because\",\n",
    "        re.compile(\"could've\"): \"could have\",\n",
    "        re.compile(\"couldn't\"): \"could not\",\n",
    "        re.compile(\"couldn't've\"): \"could not have\",\n",
    "        re.compile(\"daresn't\"): \"dare not\",\n",
    "        re.compile(\"dasn't\"): \"dare not\",\n",
    "        re.compile(\"didn't\"): \"did not\",\n",
    "        re.compile(\"doesn't\"): \"does not\",\n",
    "        re.compile(\"e'er\"): \"ever\",\n",
    "        re.compile(\"g'day\"): \"good day\",\n",
    "        re.compile(\"gimme\"): \"give me\",\n",
    "        re.compile(\"giv'n\"): \"given\",\n",
    "        re.compile(\"gonna\"): \"going to\",\n",
    "        re.compile(\"gon't\"): \"go not\",\n",
    "        re.compile(\"gotta\"): \"got to\",\n",
    "        re.compile(\"hadn't\"): \"had not\",\n",
    "        re.compile(\"hasn't\"): \"has not\",\n",
    "        re.compile(\"haven't\"): \"have not\",\n",
    "        re.compile(\"he've\"): \"he have\",\n",
    "        re.compile(\"how'll\"): \"how will\",\n",
    "        re.compile(\"how're\"): \"how are\",\n",
    "        re.compile(\"i'd've\"): \"i would have\",\n",
    "        re.compile(\"i'm\"): \"i am\",\n",
    "        re.compile(\"i'm'a\"): \"i am about to\",\n",
    "        re.compile(\"i'm'o\"): \"i am going to\",\n",
    "        re.compile(\"innit\"): \"is it not\",\n",
    "        re.compile(\"i've\"): \"i have\",\n",
    "        re.compile(\"isn't\"): \"is not\",\n",
    "        re.compile(\"let's\"): \"let us\",\n",
    "        re.compile(\"ma'am\"): \"madam\",\n",
    "        re.compile(\"mayn't\"): \"may not\",\n",
    "        re.compile(\"may've\"): \"may have\",\n",
    "        re.compile(\"methinks\"): \"me thinks\",\n",
    "        re.compile(\"mightn't\"): \"might not\",\n",
    "        re.compile(\"might've\"): \"might have\",\n",
    "        re.compile(\"mustn't\"): \"must not\",\n",
    "        re.compile(\"mustn't've\"): \"must not have\",\n",
    "        re.compile(\"must've\"): \"must have\",\n",
    "        re.compile(\"needn't\"): \"need not\",\n",
    "        re.compile(\"ne'er\"): \"never\",\n",
    "        re.compile(\"o'clock\"): \"of the clock\",\n",
    "        re.compile(\"o'er\"): \"over\",\n",
    "        re.compile(\"ol'\"): \"old\",\n",
    "        re.compile(\"oughtn't\"): \"ought not\",\n",
    "        re.compile(\"shalln't\"): \"shall not\",\n",
    "        re.compile(\"shan't\"): \"shall not\",\n",
    "        re.compile(\"should've\"): \"should have\",\n",
    "        re.compile(\"shouldn't\"): \"should not\",\n",
    "        re.compile(\"shouldn't've\"): \"should not have\",\n",
    "        re.compile(\"so're\"): \"so are\",\n",
    "        re.compile(\"that're\"): \"that are\",\n",
    "        re.compile(\"there're\"): \"there are\",\n",
    "        re.compile(\"these're\"): \"these are\",\n",
    "        re.compile(\"they've\"): \"they have\",\n",
    "        re.compile(\"those're\"): \"those are\",\n",
    "        re.compile(\"'tis\"): \"it is\",\n",
    "        re.compile(\"to've\"): \"to have\",\n",
    "        re.compile(\"'twas\"): \"it was\",\n",
    "        re.compile(\"wanna\"): \"want to\",\n",
    "        re.compile(\"wasn't\"): \"was not\",\n",
    "        re.compile(\"we're\"): \"we are\",\n",
    "        re.compile(\"we've\"): \"we have\",\n",
    "        re.compile(\"we'd've\"): \"we would have\",\n",
    "        re.compile(\"weren't\"): \"were not\",\n",
    "        re.compile(\"what've\"): \"what have\",\n",
    "        re.compile(\"where're\"): \"where are\",\n",
    "        re.compile(\"where've\"): \"where have\",\n",
    "        re.compile(\"whilst\"): \"while still\",\n",
    "        re.compile(\"who're\"): \"who are\",\n",
    "        re.compile(\"who've\"): \"who have\",\n",
    "        re.compile(\"who'd've\"): \"who would have\",\n",
    "        re.compile(\"why're\"): \"why are\",\n",
    "        re.compile(\"won't\"): \"will not\",\n",
    "        re.compile(\"would've\"): \"would have\",\n",
    "        re.compile(\"wouldn't\"): \"would not\",\n",
    "        re.compile(\"you're\"): \"you are\",\n",
    "        re.compile(\"y'all\"): \"you all\",\n",
    "        re.compile(\"y'all're\"): \"you all are\",\n",
    "        re.compile(\"y'all'd've\"): \"you all would have\",\n",
    "        re.compile(\"you've\"): \"you have\",\n",
    "        re.compile(\"noun're\"): \"noun are\"\n",
    "        }\n",
    "    #These contractions have multiple meanings, the most common one was used\n",
    "    non_unique_contractions={ \n",
    "        re.compile(\"ain't\"): \"am not\",\n",
    "        re.compile(\"don't\"): \"do not\",\n",
    "        re.compile(\"d'ye\"): \"do you\",\n",
    "        re.compile(\"daren't\"): \"dare not\",\n",
    "        re.compile(\"everybody's\"): \"everybody is\",\n",
    "        re.compile(\"everyone's\"): \"everyone is\",\n",
    "        re.compile(\"finna\"): \"fixing to\",\n",
    "        re.compile(\"he'd\"): \"he had\",\n",
    "        re.compile(\"he'll\"): \"he will\",\n",
    "        re.compile(\"he's\"): \"he is\",\n",
    "        re.compile(\"how'd\"): \"how would\",\n",
    "        re.compile(\"howdy\"): \"how do you do\",\n",
    "        re.compile(\"how's\"): \"how is\",\n",
    "        re.compile(\"i'd\"): \"I would\",\n",
    "        re.compile(\"i'll\"): \"I will\",\n",
    "        re.compile(\"it'd\"): \"it would\",\n",
    "        re.compile(\"it'll\"): \"it will\",\n",
    "        re.compile(\"it's\"): \"it is\",\n",
    "        re.compile(\"she'd\"): \"she would\",\n",
    "        re.compile(\"she'll\"): \"she will\",\n",
    "        re.compile(\"she's\"): \"she is\",\n",
    "        re.compile(\"somebody's\"): \"somebody is\",\n",
    "        re.compile(\"someone's\"): \"someone is\",\n",
    "        re.compile(\"something's\"): \"something is\",\n",
    "        re.compile(\"that'll\"): \"that will\",\n",
    "        re.compile(\"that's\"): \"that is\",\n",
    "        re.compile(\"that'd\"): \"that would\",\n",
    "        re.compile(\"there'd\"): \"there would\",\n",
    "        re.compile(\"there'll\"): \"there will\",\n",
    "        re.compile(\"there's\"): \"there is\",\n",
    "        re.compile(\"they'd\"): \"they would\",\n",
    "        re.compile(\"they'll\"): \"they will\",\n",
    "        re.compile(\"they're\"): \"they are\",\n",
    "        re.compile(\"this's\"): \"this is\",\n",
    "        re.compile(\"we'd\"): \"we would\",\n",
    "        re.compile(\"we'll\"): \"we will\",\n",
    "        re.compile(\"what'd\"): \"what did\",\n",
    "        re.compile(\"what'll\"): \"what will\",\n",
    "        re.compile(\"what's\"): \"what is\",\n",
    "        re.compile(\"what're\"): \"what are\",\n",
    "        re.compile(\"when's\"): \"when is\",\n",
    "        re.compile(\"where'd\"): \"where did\",\n",
    "        re.compile(\"where's\"): \"where is\",\n",
    "        re.compile(\"which'll\"): \"which will\",\n",
    "        re.compile(\"which's\"): \"which is\",\n",
    "        re.compile(\"who'd\"): \"who would \",\n",
    "        re.compile(\"who'll\"): \"who will\",\n",
    "        re.compile(\"who's\"): \"who is\",\n",
    "        re.compile(\"why'd\"): \"why did\",\n",
    "        re.compile(\"why's\"): \"why is\",\n",
    "        re.compile(\"you'd\"): \"you would\",\n",
    "        re.compile(\"you'll\"): \"you will\",\n",
    "        re.compile(\"noun's\"): \"noun is\",\n",
    "        }\n",
    "    # replace contractions items    \n",
    "    for rx,repl in contractions.items(): \n",
    "        emowoz_text_clean[i] = rx.sub(repl, emowoz_text_clean[i])\n",
    "    # replace non-unique contractions items    \n",
    "    for rx,repl in non_unique_contractions.items(): \n",
    "        emowoz_text_clean[i] = rx.sub(repl, emowoz_text_clean[i])\n",
    "    # remove any remaining contractions        \n",
    "    emowoz_text_clean[i]=re.sub(\"'[a-z]+\",'',emowoz_text_clean[i]) \n",
    "    \n",
    "    # Delete the minus/hyphens\n",
    "    # \"Short-term\" -> \"shortterm\"\n",
    "    emowoz_text_clean[i]=re.sub('-{1,}','',emowoz_text_clean[i])\n",
    "    \n",
    "    # Delete single character words\n",
    "    # One can argue whether one should implement this procedure. Loughran and\n",
    "    # McDonald argue in one of their papers in favor of it.\n",
    "    # To make sure that there is just one letter, we require that there is a word\n",
    "    # boundary (\\W) before and after. We use a positive backward looking and a\n",
    "    # positive forward looking condition for this to assure that the word boundary\n",
    "    # get not deleted as well.\n",
    "    emowoz_text_clean[i]=re.sub('(?i)(?<=\\W)[a-z](?=\\W)',' ',emowoz_text_clean[i])\n",
    "    # delete symbols\n",
    "    emowoz_text_clean[i]=re.sub('\\(|\\)|\\[|\\]|\\$|§|%|\\&|\\^|\\*|/|·|-|\\\"|\\'|\\+|\\{|\\}','',emowoz_text_clean[i])\n",
    "    # remove punctuation\n",
    "    emowoz_text_clean[i]=re.sub('\\.|\\?|\\!|,|;|:|','',emowoz_text_clean[i])\n",
    "    # Remove multiple whitespaces in a row\n",
    "    emowoz_text_clean[i]=re.sub(\"\\s+\",\" \",emowoz_text_clean[i])\n",
    "    # Remove 'politeness clauses' like 'Good Morning', which include words that are \n",
    "    # part of the LMD positivity dictionary although the clauses do not indicate positive tone!\n",
    "    emowoz_text_clean[i]=re.sub('good morning','',emowoz_text_clean[i])\n",
    "    emowoz_text_clean[i]=re.sub('good evening','',emowoz_text_clean[i])\n",
    "    emowoz_text_clean[i]=re.sub('nice day','',emowoz_text_clean[i])\n",
    "    emowoz_text_clean[i]=re.sub('you are welcome','',emowoz_text_clean[i])\n",
    "\n",
    "emowoz_text_clean[:10]"
   ]
  },
  {
   "cell_type": "markdown",
   "id": "0834b77c",
   "metadata": {},
   "source": [
    "## Step 3.2 Removing stopwords"
   ]
  },
  {
   "cell_type": "code",
   "execution_count": 10,
   "id": "5e889d6b",
   "metadata": {},
   "outputs": [
    {
     "data": {
      "text/plain": [
       "['i', 'me', 'my', 'myself', 'we', 'our', 'ours', 'ourselves', 'you', \"you're\"]"
      ]
     },
     "execution_count": 10,
     "metadata": {},
     "output_type": "execute_result"
    }
   ],
   "source": [
    "# Use of nltk library for removing stopwords\n",
    "# Print out list of english stopwords\n",
    "stop_words = stopwords.words('english')\n",
    "stop_words[:10]"
   ]
  },
  {
   "cell_type": "code",
   "execution_count": 11,
   "id": "464fac45",
   "metadata": {
    "scrolled": true
   },
   "outputs": [
    {
     "data": {
      "text/plain": [
       "[['thanks',\n",
       "  'so',\n",
       "  'much',\n",
       "  'am',\n",
       "  'also',\n",
       "  'looking',\n",
       "  'for',\n",
       "  'places',\n",
       "  'to',\n",
       "  'go',\n",
       "  'in',\n",
       "  'town',\n",
       "  'can',\n",
       "  'you',\n",
       "  'help',\n",
       "  'me',\n",
       "  'with',\n",
       "  'that'],\n",
       " ['thank', 'you', 'that', 'was', 'all', 'needed'],\n",
       " ['no',\n",
       "  'need',\n",
       "  'to',\n",
       "  'depart',\n",
       "  'from',\n",
       "  'cambridge',\n",
       "  'and',\n",
       "  'leave',\n",
       "  'on',\n",
       "  'monday',\n",
       "  'can',\n",
       "  'you',\n",
       "  'find',\n",
       "  'me',\n",
       "  'more',\n",
       "  'suitable',\n",
       "  'train'],\n",
       " ['that', 'is', 'all', 'need', 'thank', 'you'],\n",
       " ['thank', 'you', 'and', 'goodbye']]"
      ]
     },
     "execution_count": 11,
     "metadata": {},
     "output_type": "execute_result"
    }
   ],
   "source": [
    "# To optimize speed of iteration process, convert NLTK stopwords list into a set object. \n",
    "# The difference between a set and a list is that a set can only contain unique values while a list can contain duplicate values. \n",
    "# Additionally, a set will not be saved in an ordered way meaning you can input it in a certain order but when printed the order will be different. \n",
    "# Meanwhile, a list is ordered and will be returned in the same order you input it.\n",
    "stop_words_set = set(stop_words)\n",
    "# Next, we need to split the dialogue to convert it into a list of words where each list element is one word of the dialogue. \n",
    "# Can do this with a list comprehension\n",
    "emowoz_text_lower_case = [word.split() for word in emowoz_text_clean]\n",
    "emowoz_text_lower_case[:5]"
   ]
  },
  {
   "cell_type": "code",
   "execution_count": 12,
   "id": "ac39a149",
   "metadata": {
    "scrolled": true
   },
   "outputs": [
    {
     "data": {
      "text/plain": [
       "[['thanks', 'much', 'also', 'looking', 'places', 'go', 'town', 'help'],\n",
       " ['thank', 'needed'],\n",
       " ['need',\n",
       "  'depart',\n",
       "  'cambridge',\n",
       "  'leave',\n",
       "  'monday',\n",
       "  'find',\n",
       "  'suitable',\n",
       "  'train'],\n",
       " ['need', 'thank'],\n",
       " ['thank', 'goodbye']]"
      ]
     },
     "execution_count": 12,
     "metadata": {},
     "output_type": "execute_result"
    }
   ],
   "source": [
    "# Create a new list where all the stopwords are removed. Can do this with a two hierarchy-level list comprehension\n",
    "emowoz_text_lower_case_no_stopwords = [([word for word in dialogue if word not in\n",
    "stop_words]) for dialogue in emowoz_text_lower_case]\n",
    "emowoz_text_lower_case_no_stopwords[:5]"
   ]
  },
  {
   "cell_type": "code",
   "execution_count": 13,
   "id": "60458a66",
   "metadata": {
    "scrolled": true
   },
   "outputs": [
    {
     "data": {
      "text/plain": [
       "['thanks much also looking places go town help',\n",
       " 'thank needed',\n",
       " 'need depart cambridge leave monday find suitable train',\n",
       " 'need thank',\n",
       " 'thank goodbye']"
      ]
     },
     "execution_count": 13,
     "metadata": {},
     "output_type": "execute_result"
    }
   ],
   "source": [
    "# Now join words back together\n",
    "emowoz_text_cleaned = [' '.join(word) for word in emowoz_text_lower_case_no_stopwords]\n",
    "emowoz_text_cleaned[:5]"
   ]
  },
  {
   "cell_type": "markdown",
   "id": "0e22f08e",
   "metadata": {},
   "source": [
    "# Step 4: Sentiment analysis"
   ]
  },
  {
   "cell_type": "code",
   "execution_count": 14,
   "id": "a4958ff8",
   "metadata": {},
   "outputs": [],
   "source": [
    "# Sentiment analysis is performed with three different models: SieBERT, RoBERTa, and XLNet"
   ]
  },
  {
   "cell_type": "code",
   "execution_count": 15,
   "id": "4df07434-52cc-40ce-b06e-7b84d334d32e",
   "metadata": {},
   "outputs": [],
   "source": [
    "# Load the three models\n",
    "sentiment_analysis_siebert = pipeline('sentiment-analysis',\n",
    "model=\"siebert/sentiment-roberta-large-english\",\n",
    "tokenizer=\"siebert/sentiment-roberta-large-english\")\n",
    "sentiment_analysis_roberta = pipeline('sentiment-analysis',\n",
    "model=\"philschmid/roberta-large-sst2\", tokenizer=\"philschmid/roberta-large-sst2\")\n",
    "sentiment_analysis_xlnet = pipeline('sentiment-analysis',\n",
    "model=\"textattack/xlnet-base-cased-SST-2\",\n",
    "tokenizer=\"textattack/xlnet-base-cased-SST-2\")"
   ]
  },
  {
   "cell_type": "code",
   "execution_count": 16,
   "id": "819bf9be",
   "metadata": {},
   "outputs": [
    {
     "name": "stdout",
     "output_type": "stream",
     "text": [
      "Starting sentiment analysis with all three models...\n"
     ]
    },
    {
     "data": {
      "application/vnd.jupyter.widget-view+json": {
       "model_id": "cccbc94fa3f04c7eb1b8ef4730572511",
       "version_major": 2,
       "version_minor": 0
      },
      "text/plain": [
       "Processing sentiment-roberta-large-english:   0%|          | 0/20219 [00:00<?, ?it/s]"
      ]
     },
     "metadata": {},
     "output_type": "display_data"
    },
    {
     "data": {
      "application/vnd.jupyter.widget-view+json": {
       "model_id": "07fbdec4667a453890afda689e6c99c7",
       "version_major": 2,
       "version_minor": 0
      },
      "text/plain": [
       "Processing roberta-large-sst2:   0%|          | 0/20219 [00:00<?, ?it/s]"
      ]
     },
     "metadata": {},
     "output_type": "display_data"
    },
    {
     "data": {
      "application/vnd.jupyter.widget-view+json": {
       "model_id": "893ec6ee54604b10bd4c6777cfc33c85",
       "version_major": 2,
       "version_minor": 0
      },
      "text/plain": [
       "Processing xlnet-base-cased-SST-2:   0%|          | 0/20219 [00:00<?, ?it/s]"
      ]
     },
     "metadata": {},
     "output_type": "display_data"
    },
    {
     "name": "stderr",
     "output_type": "stream",
     "text": [
      "Asking to truncate to max_length but no maximum length is provided and the model has no predefined maximum length. Default to no truncation.\n"
     ]
    },
    {
     "name": "stdout",
     "output_type": "stream",
     "text": [
      "\n",
      "Sentiment analysis completed for all models.\n"
     ]
    }
   ],
   "source": [
    "# Function to process cleaned text in batches\n",
    "def process_in_batches(texts, model, batch_size=40):\n",
    "    sentiment_labels = []\n",
    "    model_name = model.model.config.name_or_path.split('/')[-1]\n",
    "    progress_bar = tqdm(total=len(texts), desc=f\"Processing {model_name}\",\n",
    "position=0, leave=True)\n",
    "\n",
    "    for i in range(0, len(texts), batch_size):\n",
    "        batch = texts[i:i + batch_size]\n",
    "        batch_results = model(batch, padding=True, truncation=True)\n",
    "        sentiment_labels.extend(batch_results)\n",
    "        progress_bar.update(len(batch))\n",
    "\n",
    "    progress_bar.close()\n",
    "    return sentiment_labels\n",
    "\n",
    "# Perform sentiment analysis using three models in parallel\n",
    "print(\"Starting sentiment analysis with all three models...\")\n",
    "with ThreadPoolExecutor(max_workers=3) as executor:\n",
    "    # Submit all tasks simultaneously\n",
    "    futures = {\n",
    "        'SieBERT': executor.submit(process_in_batches, emowoz_text_cleaned,\n",
    "sentiment_analysis_siebert),\n",
    "        'RoBERTa': executor.submit(process_in_batches, emowoz_text_cleaned,\n",
    "sentiment_analysis_roberta),\n",
    "        'XLNet': executor.submit(process_in_batches, emowoz_text_cleaned,\n",
    "sentiment_analysis_xlnet)\n",
    "    }\n",
    "\n",
    "    # Get results as they complete\n",
    "    siebert_sentiment_labels = futures['SieBERT'].result()\n",
    "    roberta_sentiment_labels = futures['RoBERTa'].result()\n",
    "    xlnet_sentiment_labels = futures['XLNet'].result()\n",
    "\n",
    "print(\"\\nSentiment analysis completed for all models.\")"
   ]
  },
  {
   "cell_type": "code",
   "execution_count": 17,
   "id": "cda9b4af",
   "metadata": {},
   "outputs": [
    {
     "data": {
      "text/plain": [
       "[{'label': 'POSITIVE', 'score': 0.9982964396476746},\n",
       " {'label': 'POSITIVE', 'score': 0.9976248145103455},\n",
       " {'label': 'NEGATIVE', 'score': 0.9856853485107422},\n",
       " {'label': 'POSITIVE', 'score': 0.9967156648635864},\n",
       " {'label': 'POSITIVE', 'score': 0.9981572031974792},\n",
       " {'label': 'POSITIVE', 'score': 0.9978117346763611},\n",
       " {'label': 'POSITIVE', 'score': 0.9974355101585388},\n",
       " {'label': 'POSITIVE', 'score': 0.9980514049530029},\n",
       " {'label': 'POSITIVE', 'score': 0.9988085031509399},\n",
       " {'label': 'POSITIVE', 'score': 0.9984540939331055}]"
      ]
     },
     "execution_count": 17,
     "metadata": {},
     "output_type": "execute_result"
    }
   ],
   "source": [
    "#Showing the first 10 sentiment outputs from the Siebert model\n",
    "siebert_sentiment_labels[:10]"
   ]
  },
  {
   "cell_type": "code",
   "execution_count": 18,
   "id": "38196961",
   "metadata": {},
   "outputs": [
    {
     "data": {
      "text/plain": [
       "[{'label': 'positive', 'score': 0.9923189282417297},\n",
       " {'label': 'positive', 'score': 0.9979801774024963},\n",
       " {'label': 'negative', 'score': 0.8936282396316528},\n",
       " {'label': 'positive', 'score': 0.9961720108985901},\n",
       " {'label': 'positive', 'score': 0.9276072978973389},\n",
       " {'label': 'negative', 'score': 0.8442251086235046},\n",
       " {'label': 'negative', 'score': 0.6675218939781189},\n",
       " {'label': 'positive', 'score': 0.9802356958389282},\n",
       " {'label': 'positive', 'score': 0.998910665512085},\n",
       " {'label': 'positive', 'score': 0.9988081455230713}]"
      ]
     },
     "execution_count": 18,
     "metadata": {},
     "output_type": "execute_result"
    }
   ],
   "source": [
    "#Showing the first 10 sentiment outputs from the RoBERTa model\n",
    "roberta_sentiment_labels[:10]"
   ]
  },
  {
   "cell_type": "code",
   "execution_count": 19,
   "id": "40a47696",
   "metadata": {},
   "outputs": [
    {
     "data": {
      "text/plain": [
       "[{'label': 'LABEL_1', 'score': 0.9909747242927551},\n",
       " {'label': 'LABEL_1', 'score': 0.9868180751800537},\n",
       " {'label': 'LABEL_0', 'score': 0.9757059812545776},\n",
       " {'label': 'LABEL_1', 'score': 0.5352509021759033},\n",
       " {'label': 'LABEL_1', 'score': 0.9232044816017151},\n",
       " {'label': 'LABEL_0', 'score': 0.8596898913383484},\n",
       " {'label': 'LABEL_1', 'score': 0.7002763748168945},\n",
       " {'label': 'LABEL_1', 'score': 0.6149630546569824},\n",
       " {'label': 'LABEL_1', 'score': 0.9622364640235901},\n",
       " {'label': 'LABEL_1', 'score': 0.9989493489265442}]"
      ]
     },
     "execution_count": 19,
     "metadata": {},
     "output_type": "execute_result"
    }
   ],
   "source": [
    "#Showing the first 10 sentiment outputs from the XLNet model\n",
    "xlnet_sentiment_labels[:10]"
   ]
  },
  {
   "cell_type": "markdown",
   "id": "278f4abb",
   "metadata": {},
   "source": [
    "# Step 5: Create dataframe with results"
   ]
  },
  {
   "cell_type": "code",
   "execution_count": 20,
   "id": "4adec031",
   "metadata": {},
   "outputs": [
    {
     "name": "stdout",
     "output_type": "stream",
     "text": [
      "SieBERT first 10 Sentiments: ['Positive', 'Positive', 'Negative', 'Positive', 'Positive']\n",
      "RoBERTa first 10 Sentiments: ['Positive', 'Positive', 'Negative', 'Positive', 'Positive']\n",
      "XLNet first 10 Sentiments: ['Positive', 'Positive', 'Negative', 'Positive', 'Positive']\n"
     ]
    }
   ],
   "source": [
    "# For each model, extracting only the predicted sentiment label (i.e. positive or negative)\n",
    "# Need two for loops as the sentiment predictions are in a list of lists \n",
    "# For the XLNet model, need to convert the labels into actual readable sentiment scores\n",
    "# LABEL_1 is equivalent to positive sentiment and LABEL_0 is equivalent to negative sentiment\n",
    "# Can do this in two steps with a list comprehension\n",
    "siebert_sentiment = [sentiment['label'].title() for sentiment in siebert_sentiment_labels]\n",
    "roberta_sentiment = [sentiment['label'].title() for sentiment in roberta_sentiment_labels]\n",
    "xlnet_sentiment = ['Positive' if sentiment['label'] == 'LABEL_1' else 'Negative' for sentiment in xlnet_sentiment_labels]\n",
    "print(\"SieBERT first 10 Sentiments:\", siebert_sentiment[:5])\n",
    "print(\"RoBERTa first 10 Sentiments:\", roberta_sentiment[:5])\n",
    "print(\"XLNet first 10 Sentiments:\", xlnet_sentiment[:5])"
   ]
  },
  {
   "cell_type": "code",
   "execution_count": 21,
   "id": "eb6705ba",
   "metadata": {},
   "outputs": [
    {
     "data": {
      "text/html": [
       "<div>\n",
       "<style scoped>\n",
       "    .dataframe tbody tr th:only-of-type {\n",
       "        vertical-align: middle;\n",
       "    }\n",
       "\n",
       "    .dataframe tbody tr th {\n",
       "        vertical-align: top;\n",
       "    }\n",
       "\n",
       "    .dataframe thead th {\n",
       "        text-align: right;\n",
       "    }\n",
       "</style>\n",
       "<table border=\"1\" class=\"dataframe\">\n",
       "  <thead>\n",
       "    <tr style=\"text-align: right;\">\n",
       "      <th></th>\n",
       "      <th>original_text</th>\n",
       "      <th>cleaned_text</th>\n",
       "      <th>siebert_prediction</th>\n",
       "      <th>roberta_prediction</th>\n",
       "      <th>xlnet_prediction</th>\n",
       "      <th>actual_sentiment</th>\n",
       "    </tr>\n",
       "  </thead>\n",
       "  <tbody>\n",
       "    <tr>\n",
       "      <th>0</th>\n",
       "      <td>Thanks so much. I am also looking for places t...</td>\n",
       "      <td>thanks much also looking places go town help</td>\n",
       "      <td>Positive</td>\n",
       "      <td>Positive</td>\n",
       "      <td>Positive</td>\n",
       "      <td>Positive</td>\n",
       "    </tr>\n",
       "    <tr>\n",
       "      <th>1</th>\n",
       "      <td>Thank you.  That was all I needed.</td>\n",
       "      <td>thank needed</td>\n",
       "      <td>Positive</td>\n",
       "      <td>Positive</td>\n",
       "      <td>Positive</td>\n",
       "      <td>Positive</td>\n",
       "    </tr>\n",
       "    <tr>\n",
       "      <th>2</th>\n",
       "      <td>No. I need to depart from Cambridge and leave ...</td>\n",
       "      <td>need depart cambridge leave monday find suitab...</td>\n",
       "      <td>Negative</td>\n",
       "      <td>Negative</td>\n",
       "      <td>Negative</td>\n",
       "      <td>Negative</td>\n",
       "    </tr>\n",
       "    <tr>\n",
       "      <th>3</th>\n",
       "      <td>That's all I need. Thank you!</td>\n",
       "      <td>need thank</td>\n",
       "      <td>Positive</td>\n",
       "      <td>Positive</td>\n",
       "      <td>Positive</td>\n",
       "      <td>Positive</td>\n",
       "    </tr>\n",
       "    <tr>\n",
       "      <th>4</th>\n",
       "      <td>Thank you and goodbye.</td>\n",
       "      <td>thank goodbye</td>\n",
       "      <td>Positive</td>\n",
       "      <td>Positive</td>\n",
       "      <td>Positive</td>\n",
       "      <td>Positive</td>\n",
       "    </tr>\n",
       "    <tr>\n",
       "      <th>...</th>\n",
       "      <td>...</td>\n",
       "      <td>...</td>\n",
       "      <td>...</td>\n",
       "      <td>...</td>\n",
       "      <td>...</td>\n",
       "      <td>...</td>\n",
       "    </tr>\n",
       "    <tr>\n",
       "      <th>20214</th>\n",
       "      <td>Thank you goodbye.</td>\n",
       "      <td>thank goodbye</td>\n",
       "      <td>Positive</td>\n",
       "      <td>Positive</td>\n",
       "      <td>Positive</td>\n",
       "      <td>Positive</td>\n",
       "    </tr>\n",
       "    <tr>\n",
       "      <th>20215</th>\n",
       "      <td>No, that is all.  You have been very helpful. ...</td>\n",
       "      <td>helpful thanks bye</td>\n",
       "      <td>Positive</td>\n",
       "      <td>Positive</td>\n",
       "      <td>Positive</td>\n",
       "      <td>Positive</td>\n",
       "    </tr>\n",
       "    <tr>\n",
       "      <th>20216</th>\n",
       "      <td>We are visiting cambridge for the first time a...</td>\n",
       "      <td>visiting cambridge first time looking moderate...</td>\n",
       "      <td>Positive</td>\n",
       "      <td>Positive</td>\n",
       "      <td>Positive</td>\n",
       "      <td>Positive</td>\n",
       "    </tr>\n",
       "    <tr>\n",
       "      <th>20217</th>\n",
       "      <td>Can you recommend a tour of the college near t...</td>\n",
       "      <td>recommend tour college near hotel</td>\n",
       "      <td>Positive</td>\n",
       "      <td>Positive</td>\n",
       "      <td>Positive</td>\n",
       "      <td>Positive</td>\n",
       "    </tr>\n",
       "    <tr>\n",
       "      <th>20218</th>\n",
       "      <td>That is it. Thank you so much for your help.</td>\n",
       "      <td>thank much help</td>\n",
       "      <td>Positive</td>\n",
       "      <td>Positive</td>\n",
       "      <td>Positive</td>\n",
       "      <td>Positive</td>\n",
       "    </tr>\n",
       "  </tbody>\n",
       "</table>\n",
       "<p>20219 rows × 6 columns</p>\n",
       "</div>"
      ],
      "text/plain": [
       "                                           original_text  \\\n",
       "0      Thanks so much. I am also looking for places t...   \n",
       "1                     Thank you.  That was all I needed.   \n",
       "2      No. I need to depart from Cambridge and leave ...   \n",
       "3                          That's all I need. Thank you!   \n",
       "4                                 Thank you and goodbye.   \n",
       "...                                                  ...   \n",
       "20214                                Thank you goodbye.    \n",
       "20215  No, that is all.  You have been very helpful. ...   \n",
       "20216  We are visiting cambridge for the first time a...   \n",
       "20217  Can you recommend a tour of the college near t...   \n",
       "20218       That is it. Thank you so much for your help.   \n",
       "\n",
       "                                            cleaned_text siebert_prediction  \\\n",
       "0           thanks much also looking places go town help           Positive   \n",
       "1                                           thank needed           Positive   \n",
       "2      need depart cambridge leave monday find suitab...           Negative   \n",
       "3                                             need thank           Positive   \n",
       "4                                          thank goodbye           Positive   \n",
       "...                                                  ...                ...   \n",
       "20214                                      thank goodbye           Positive   \n",
       "20215                                 helpful thanks bye           Positive   \n",
       "20216  visiting cambridge first time looking moderate...           Positive   \n",
       "20217                  recommend tour college near hotel           Positive   \n",
       "20218                                    thank much help           Positive   \n",
       "\n",
       "      roberta_prediction xlnet_prediction actual_sentiment  \n",
       "0               Positive         Positive         Positive  \n",
       "1               Positive         Positive         Positive  \n",
       "2               Negative         Negative         Negative  \n",
       "3               Positive         Positive         Positive  \n",
       "4               Positive         Positive         Positive  \n",
       "...                  ...              ...              ...  \n",
       "20214           Positive         Positive         Positive  \n",
       "20215           Positive         Positive         Positive  \n",
       "20216           Positive         Positive         Positive  \n",
       "20217           Positive         Positive         Positive  \n",
       "20218           Positive         Positive         Positive  \n",
       "\n",
       "[20219 rows x 6 columns]"
      ]
     },
     "execution_count": 21,
     "metadata": {},
     "output_type": "execute_result"
    }
   ],
   "source": [
    "# Create DataFrame with original EmoWoz dialogue, cleaned dialogue, model predictions and actual sentiment\n",
    "emowoz_result_df = pd.DataFrame({\n",
    "    'original_text': emowoz_text,\n",
    "    'cleaned_text': emowoz_text_cleaned,\n",
    "    'siebert_prediction': siebert_sentiment,\n",
    "    'roberta_prediction': roberta_sentiment,\n",
    "    'xlnet_prediction': xlnet_sentiment,\n",
    "    'actual_sentiment': emowoz_correct_sentiment\n",
    "})\n",
    "emowoz_result_df"
   ]
  },
  {
   "cell_type": "code",
   "execution_count": 22,
   "id": "2bc2e39b",
   "metadata": {},
   "outputs": [
    {
     "data": {
      "text/html": [
       "<div>\n",
       "<style scoped>\n",
       "    .dataframe tbody tr th:only-of-type {\n",
       "        vertical-align: middle;\n",
       "    }\n",
       "\n",
       "    .dataframe tbody tr th {\n",
       "        vertical-align: top;\n",
       "    }\n",
       "\n",
       "    .dataframe thead th {\n",
       "        text-align: right;\n",
       "    }\n",
       "</style>\n",
       "<table border=\"1\" class=\"dataframe\">\n",
       "  <thead>\n",
       "    <tr style=\"text-align: right;\">\n",
       "      <th></th>\n",
       "      <th>original_text</th>\n",
       "      <th>cleaned_text</th>\n",
       "      <th>siebert_prediction</th>\n",
       "      <th>roberta_prediction</th>\n",
       "      <th>xlnet_prediction</th>\n",
       "      <th>actual_sentiment</th>\n",
       "      <th>siebert_correct</th>\n",
       "      <th>roberta_correct</th>\n",
       "      <th>xlnet_correct</th>\n",
       "    </tr>\n",
       "  </thead>\n",
       "  <tbody>\n",
       "    <tr>\n",
       "      <th>0</th>\n",
       "      <td>Thanks so much. I am also looking for places t...</td>\n",
       "      <td>thanks much also looking places go town help</td>\n",
       "      <td>Positive</td>\n",
       "      <td>Positive</td>\n",
       "      <td>Positive</td>\n",
       "      <td>Positive</td>\n",
       "      <td>True</td>\n",
       "      <td>True</td>\n",
       "      <td>True</td>\n",
       "    </tr>\n",
       "    <tr>\n",
       "      <th>1</th>\n",
       "      <td>Thank you.  That was all I needed.</td>\n",
       "      <td>thank needed</td>\n",
       "      <td>Positive</td>\n",
       "      <td>Positive</td>\n",
       "      <td>Positive</td>\n",
       "      <td>Positive</td>\n",
       "      <td>True</td>\n",
       "      <td>True</td>\n",
       "      <td>True</td>\n",
       "    </tr>\n",
       "    <tr>\n",
       "      <th>2</th>\n",
       "      <td>No. I need to depart from Cambridge and leave ...</td>\n",
       "      <td>need depart cambridge leave monday find suitab...</td>\n",
       "      <td>Negative</td>\n",
       "      <td>Negative</td>\n",
       "      <td>Negative</td>\n",
       "      <td>Negative</td>\n",
       "      <td>True</td>\n",
       "      <td>True</td>\n",
       "      <td>True</td>\n",
       "    </tr>\n",
       "    <tr>\n",
       "      <th>3</th>\n",
       "      <td>That's all I need. Thank you!</td>\n",
       "      <td>need thank</td>\n",
       "      <td>Positive</td>\n",
       "      <td>Positive</td>\n",
       "      <td>Positive</td>\n",
       "      <td>Positive</td>\n",
       "      <td>True</td>\n",
       "      <td>True</td>\n",
       "      <td>True</td>\n",
       "    </tr>\n",
       "    <tr>\n",
       "      <th>4</th>\n",
       "      <td>Thank you and goodbye.</td>\n",
       "      <td>thank goodbye</td>\n",
       "      <td>Positive</td>\n",
       "      <td>Positive</td>\n",
       "      <td>Positive</td>\n",
       "      <td>Positive</td>\n",
       "      <td>True</td>\n",
       "      <td>True</td>\n",
       "      <td>True</td>\n",
       "    </tr>\n",
       "    <tr>\n",
       "      <th>...</th>\n",
       "      <td>...</td>\n",
       "      <td>...</td>\n",
       "      <td>...</td>\n",
       "      <td>...</td>\n",
       "      <td>...</td>\n",
       "      <td>...</td>\n",
       "      <td>...</td>\n",
       "      <td>...</td>\n",
       "      <td>...</td>\n",
       "    </tr>\n",
       "    <tr>\n",
       "      <th>20214</th>\n",
       "      <td>Thank you goodbye.</td>\n",
       "      <td>thank goodbye</td>\n",
       "      <td>Positive</td>\n",
       "      <td>Positive</td>\n",
       "      <td>Positive</td>\n",
       "      <td>Positive</td>\n",
       "      <td>True</td>\n",
       "      <td>True</td>\n",
       "      <td>True</td>\n",
       "    </tr>\n",
       "    <tr>\n",
       "      <th>20215</th>\n",
       "      <td>No, that is all.  You have been very helpful. ...</td>\n",
       "      <td>helpful thanks bye</td>\n",
       "      <td>Positive</td>\n",
       "      <td>Positive</td>\n",
       "      <td>Positive</td>\n",
       "      <td>Positive</td>\n",
       "      <td>True</td>\n",
       "      <td>True</td>\n",
       "      <td>True</td>\n",
       "    </tr>\n",
       "    <tr>\n",
       "      <th>20216</th>\n",
       "      <td>We are visiting cambridge for the first time a...</td>\n",
       "      <td>visiting cambridge first time looking moderate...</td>\n",
       "      <td>Positive</td>\n",
       "      <td>Positive</td>\n",
       "      <td>Positive</td>\n",
       "      <td>Positive</td>\n",
       "      <td>True</td>\n",
       "      <td>True</td>\n",
       "      <td>True</td>\n",
       "    </tr>\n",
       "    <tr>\n",
       "      <th>20217</th>\n",
       "      <td>Can you recommend a tour of the college near t...</td>\n",
       "      <td>recommend tour college near hotel</td>\n",
       "      <td>Positive</td>\n",
       "      <td>Positive</td>\n",
       "      <td>Positive</td>\n",
       "      <td>Positive</td>\n",
       "      <td>True</td>\n",
       "      <td>True</td>\n",
       "      <td>True</td>\n",
       "    </tr>\n",
       "    <tr>\n",
       "      <th>20218</th>\n",
       "      <td>That is it. Thank you so much for your help.</td>\n",
       "      <td>thank much help</td>\n",
       "      <td>Positive</td>\n",
       "      <td>Positive</td>\n",
       "      <td>Positive</td>\n",
       "      <td>Positive</td>\n",
       "      <td>True</td>\n",
       "      <td>True</td>\n",
       "      <td>True</td>\n",
       "    </tr>\n",
       "  </tbody>\n",
       "</table>\n",
       "<p>20219 rows × 9 columns</p>\n",
       "</div>"
      ],
      "text/plain": [
       "                                           original_text  \\\n",
       "0      Thanks so much. I am also looking for places t...   \n",
       "1                     Thank you.  That was all I needed.   \n",
       "2      No. I need to depart from Cambridge and leave ...   \n",
       "3                          That's all I need. Thank you!   \n",
       "4                                 Thank you and goodbye.   \n",
       "...                                                  ...   \n",
       "20214                                Thank you goodbye.    \n",
       "20215  No, that is all.  You have been very helpful. ...   \n",
       "20216  We are visiting cambridge for the first time a...   \n",
       "20217  Can you recommend a tour of the college near t...   \n",
       "20218       That is it. Thank you so much for your help.   \n",
       "\n",
       "                                            cleaned_text siebert_prediction  \\\n",
       "0           thanks much also looking places go town help           Positive   \n",
       "1                                           thank needed           Positive   \n",
       "2      need depart cambridge leave monday find suitab...           Negative   \n",
       "3                                             need thank           Positive   \n",
       "4                                          thank goodbye           Positive   \n",
       "...                                                  ...                ...   \n",
       "20214                                      thank goodbye           Positive   \n",
       "20215                                 helpful thanks bye           Positive   \n",
       "20216  visiting cambridge first time looking moderate...           Positive   \n",
       "20217                  recommend tour college near hotel           Positive   \n",
       "20218                                    thank much help           Positive   \n",
       "\n",
       "      roberta_prediction xlnet_prediction actual_sentiment  siebert_correct  \\\n",
       "0               Positive         Positive         Positive             True   \n",
       "1               Positive         Positive         Positive             True   \n",
       "2               Negative         Negative         Negative             True   \n",
       "3               Positive         Positive         Positive             True   \n",
       "4               Positive         Positive         Positive             True   \n",
       "...                  ...              ...              ...              ...   \n",
       "20214           Positive         Positive         Positive             True   \n",
       "20215           Positive         Positive         Positive             True   \n",
       "20216           Positive         Positive         Positive             True   \n",
       "20217           Positive         Positive         Positive             True   \n",
       "20218           Positive         Positive         Positive             True   \n",
       "\n",
       "       roberta_correct  xlnet_correct  \n",
       "0                 True           True  \n",
       "1                 True           True  \n",
       "2                 True           True  \n",
       "3                 True           True  \n",
       "4                 True           True  \n",
       "...                ...            ...  \n",
       "20214             True           True  \n",
       "20215             True           True  \n",
       "20216             True           True  \n",
       "20217             True           True  \n",
       "20218             True           True  \n",
       "\n",
       "[20219 rows x 9 columns]"
      ]
     },
     "execution_count": 22,
     "metadata": {},
     "output_type": "execute_result"
    }
   ],
   "source": [
    "# Add Boolean column that says if siebert_prediction = actual_sentiment\n",
    "emowoz_result_df['siebert_correct'] = emowoz_result_df['siebert_prediction'] == emowoz_result_df['actual_sentiment']\n",
    "emowoz_result_df['roberta_correct'] = emowoz_result_df['roberta_prediction'] == emowoz_result_df['actual_sentiment']\n",
    "emowoz_result_df['xlnet_correct'] = emowoz_result_df['xlnet_prediction'] == emowoz_result_df['actual_sentiment']\n",
    "# Display the first 10 rows of the dataframe with all columns\n",
    "pd.set_option('display.max_columns', None)\n",
    "pd.set_option('display.width', 0)\n",
    "emowoz_result_df"
   ]
  },
  {
   "cell_type": "markdown",
   "id": "b7a0c356",
   "metadata": {},
   "source": [
    "# Step 6: Export results dataframe to Excel format"
   ]
  },
  {
   "cell_type": "code",
   "execution_count": 23,
   "id": "c60f683d",
   "metadata": {},
   "outputs": [],
   "source": [
    "# Put the dataframe into an Excel file and save it\n",
    "emowoz_result_df.to_excel(\"4_Sentiment_analysis_result_multithread_batch_processing.xlsx\", \n",
    "                          index=False, engine='openpyxl')"
   ]
  },
  {
   "cell_type": "markdown",
   "id": "e9b3f19f",
   "metadata": {},
   "source": [
    "# Step 7: Calculate results"
   ]
  },
  {
   "cell_type": "code",
   "execution_count": 24,
   "id": "d4a289d0",
   "metadata": {},
   "outputs": [
    {
     "data": {
      "text/html": [
       "<div>\n",
       "<style scoped>\n",
       "    .dataframe tbody tr th:only-of-type {\n",
       "        vertical-align: middle;\n",
       "    }\n",
       "\n",
       "    .dataframe tbody tr th {\n",
       "        vertical-align: top;\n",
       "    }\n",
       "\n",
       "    .dataframe thead th {\n",
       "        text-align: right;\n",
       "    }\n",
       "</style>\n",
       "<table border=\"1\" class=\"dataframe\">\n",
       "  <thead>\n",
       "    <tr style=\"text-align: right;\">\n",
       "      <th></th>\n",
       "      <th>Model</th>\n",
       "      <th>Accuracy</th>\n",
       "    </tr>\n",
       "  </thead>\n",
       "  <tbody>\n",
       "    <tr>\n",
       "      <th>0</th>\n",
       "      <td>SieBERT</td>\n",
       "      <td>0.917058</td>\n",
       "    </tr>\n",
       "    <tr>\n",
       "      <th>1</th>\n",
       "      <td>RoBERTa</td>\n",
       "      <td>0.885256</td>\n",
       "    </tr>\n",
       "    <tr>\n",
       "      <th>2</th>\n",
       "      <td>XLNet</td>\n",
       "      <td>0.864533</td>\n",
       "    </tr>\n",
       "  </tbody>\n",
       "</table>\n",
       "</div>"
      ],
      "text/plain": [
       "     Model  Accuracy\n",
       "0  SieBERT  0.917058\n",
       "1  RoBERTa  0.885256\n",
       "2    XLNet  0.864533"
      ]
     },
     "execution_count": 24,
     "metadata": {},
     "output_type": "execute_result"
    }
   ],
   "source": [
    "# Calculate the accuracy for each model\n",
    "siebert_accuracy = emowoz_result_df['siebert_correct'].mean()\n",
    "roberta_accuracy = emowoz_result_df['roberta_correct'].mean()\n",
    "xlnet_accuracy = emowoz_result_df['xlnet_correct'].mean()\n",
    "\n",
    "# Create a DataFrame to display the accuracies\n",
    "accuracy_df = pd.DataFrame({\n",
    "    'Model': ['SieBERT', 'RoBERTa', 'XLNet'],\n",
    "    'Accuracy': [siebert_accuracy, roberta_accuracy, xlnet_accuracy]\n",
    "})\n",
    "\n",
    "accuracy_df"
   ]
  },
  {
   "cell_type": "code",
   "execution_count": 25,
   "id": "581dcb9f",
   "metadata": {},
   "outputs": [
    {
     "name": "stdout",
     "output_type": "stream",
     "text": [
      "SieBERT Confusion Matrix:\n",
      " [[ 1461   807]\n",
      " [  870 17081]]\n",
      "RoBERTa Confusion Matrix:\n",
      " [[ 1560   708]\n",
      " [ 1612 16339]]\n",
      "XLNet Confusion Matrix:\n",
      " [[ 1557   711]\n",
      " [ 2028 15923]]\n"
     ]
    },
    {
     "data": {
      "image/png": "[encoded data removed]",
      "text/plain": [
       "<Figure size 1800x500 with 6 Axes>"
      ]
     },
     "metadata": {},
     "output_type": "display_data"
    }
   ],
   "source": [
    "# Generate a confusion matrix for each model\n",
    "# Generate confusion matrix for SieBERT model\n",
    "siebert_confusion_matrix = confusion_matrix(emowoz_result_df['actual_sentiment'],\n",
    "emowoz_result_df['siebert_prediction'])\n",
    "print(\"SieBERT Confusion Matrix:\\n\", siebert_confusion_matrix)\n",
    "\n",
    "# Generate confusion matrix for RoBERTa model\n",
    "roberta_confusion_matrix = confusion_matrix(emowoz_result_df['actual_sentiment'],\n",
    "emowoz_result_df['roberta_prediction'])\n",
    "print(\"RoBERTa Confusion Matrix:\\n\", roberta_confusion_matrix)\n",
    "\n",
    "# Generate confusion matrix for XLNet model\n",
    "xlnet_confusion_matrix = confusion_matrix(emowoz_result_df['actual_sentiment'],\n",
    "emowoz_result_df['xlnet_prediction'])\n",
    "print(\"XLNet Confusion Matrix:\\n\", xlnet_confusion_matrix)\n",
    "\n",
    "# Visualizing the confusion matrices\n",
    "fig, axes = plt.subplots(1, 3, figsize=(18, 5))\n",
    "\n",
    "# Plot SieBERT confusion matrix\n",
    "sns.heatmap(siebert_confusion_matrix, annot=True, fmt='d', cmap='Blues', ax=axes[0])\n",
    "axes[0].set_title('SieBERT Sentiment Analysis Confusion Matrix')\n",
    "axes[0].set_xlabel('Predicted sentiment')\n",
    "axes[0].set_ylabel('Actual Sentiment')\n",
    "axes[0].set_xticklabels(['Negative', 'Positive'])\n",
    "axes[0].set_yticklabels(['Negative', 'Positive'])\n",
    "\n",
    "# Plot RoBERTa confusion matrix\n",
    "sns.heatmap(roberta_confusion_matrix, annot=True, fmt='d', cmap='Blues', ax=axes[1])\n",
    "axes[1].set_title('RoBERTa Sentiment Analysis Confusion Matrix')\n",
    "axes[1].set_xlabel('Predicted Sentiment')\n",
    "axes[1].set_ylabel('Actual Sentiment')\n",
    "axes[1].set_xticklabels(['Negative', 'Positive'])\n",
    "axes[1].set_yticklabels(['Negative', 'Positive'])\n",
    "\n",
    "# Plot XLNet confusion matrix\n",
    "sns.heatmap(xlnet_confusion_matrix, annot=True, fmt='d', cmap='Blues', ax=axes[2])\n",
    "axes[2].set_title('XLNet Sentiment Analysis Confusion Matrix')\n",
    "axes[2].set_xlabel('Predicted Sentiment')\n",
    "axes[2].set_ylabel('Actual Sentiment')\n",
    "axes[2].set_xticklabels(['Negative', 'Positive'])\n",
    "axes[2].set_yticklabels(['Negative', 'Positive'])\n",
    "\n",
    "plt.tight_layout()\n",
    "plt.show()"
   ]
  }
 ],
 "metadata": {
  "kernelspec": {
   "display_name": "bachelor_thesis",
   "language": "python",
   "name": "python3"
  },
  "language_info": {
   "codemirror_mode": {
    "name": "ipython",
    "version": 3
   },
   "file_extension": ".py",
   "mimetype": "text/x-python",
   "name": "python",
   "nbconvert_exporter": "python",
   "pygments_lexer": "ipython3",
   "version": "3.10.13"
  }
 },
 "nbformat": 4,
 "nbformat_minor": 5
}
